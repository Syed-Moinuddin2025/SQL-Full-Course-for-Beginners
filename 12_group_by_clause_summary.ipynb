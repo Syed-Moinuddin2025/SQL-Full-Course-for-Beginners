{
    "metadata": {
        "kernelspec": {
            "name": "SQL",
            "display_name": "SQL",
            "language": "sql"
        },
        "language_info": {
            "name": "sql",
            "version": ""
        }
    },
    "nbformat_minor": 2,
    "nbformat": 4,
    "cells": [
        {
            "cell_type": "markdown",
            "source": [
                "# 📘 SQL GROUP BY Practice\n",
                "**Using Customers and Orders Table**\n\n",
                "This notebook demonstrates the use of `GROUP BY` clause in SQL with real-world data structure.\n"
            ],
            "metadata": {
                "azdata_cell_guid": "a1c9542b-14af-41ef-8270-2937ec6adf31"
            }
        },
        {
            "cell_type": "code",
            "source": [
                "-- 01. Count customers from each country\nSELECT country, COUNT(*) AS total_customers\nFROM customers\nGROUP BY country;"
            ],
            "metadata": {
                "azdata_cell_guid": "f2f9cdbd-449e-4903-b81a-cc02d5890334",
                "language": "sql"
            },
            "outputs": [
                {
                    "output_type": "display_data",
                    "data": {
                        "text/html": "(8 rows affected)"
                    },
                    "metadata": {}
                },
                {
                    "output_type": "display_data",
                    "data": {
                        "text/html": "Total execution time: 00:00:00.018"
                    },
                    "metadata": {}
                },
                {
                    "output_type": "execute_result",
                    "metadata": {},
                    "execution_count": 1,
                    "data": {
                        "application/vnd.dataresource+json": {
                            "schema": {
                                "fields": [
                                    {
                                        "name": "country"
                                    },
                                    {
                                        "name": "total_customers"
                                    }
                                ]
                            },
                            "data": [
                                {
                                    "country": "Canad",
                                    "total_customers": "1"
                                },
                                {
                                    "country": "Canada",
                                    "total_customers": "2"
                                },
                                {
                                    "country": "Germany",
                                    "total_customers": "4"
                                },
                                {
                                    "country": "India",
                                    "total_customers": "3"
                                },
                                {
                                    "country": "Iran",
                                    "total_customers": "1"
                                },
                                {
                                    "country": "UAE",
                                    "total_customers": "3"
                                },
                                {
                                    "country": "UK",
                                    "total_customers": "2"
                                },
                                {
                                    "country": "USA",
                                    "total_customers": "4"
                                }
                            ]
                        },
                        "text/html": [
                            "<table>",
                            "<tr><th>country</th><th>total_customers</th></tr>",
                            "<tr><td>Canad</td><td>1</td></tr>",
                            "<tr><td>Canada</td><td>2</td></tr>",
                            "<tr><td>Germany</td><td>4</td></tr>",
                            "<tr><td>India</td><td>3</td></tr>",
                            "<tr><td>Iran</td><td>1</td></tr>",
                            "<tr><td>UAE</td><td>3</td></tr>",
                            "<tr><td>UK</td><td>2</td></tr>",
                            "<tr><td>USA</td><td>4</td></tr>",
                            "</table>"
                        ]
                    }
                }
            ],
            "execution_count": 1
        },
        {
            "cell_type": "markdown",
            "source": [
                "✅ **Result of Query 1**:\n\n*(Output will be shown below after execution)* 📊"
            ],
            "metadata": {
                "azdata_cell_guid": "fd0e86dd-8e46-4e7d-8c80-127416ad7cc5"
            }
        },
        {
            "cell_type": "code",
            "source": [
                "-- 02. Average score of customers by country\nSELECT country, AVG(score) AS average_score\nFROM customers\nGROUP BY country;"
            ],
            "metadata": {
                "azdata_cell_guid": "6d15781e-a6d7-4981-a5e7-4f919d7b8a40",
                "language": "sql"
            },
            "outputs": [],
            "execution_count": null
        },
        {
            "cell_type": "markdown",
            "source": [
                "✅ **Result of Query 2**:\n\n*(Output will be shown below after execution)* 📊"
            ],
            "metadata": {
                "azdata_cell_guid": "babc9dfc-c972-4fed-90fc-c25032316290"
            }
        },
        {
            "cell_type": "code",
            "source": [
                "-- 03. Total sales done by each customer\nSELECT customer_id, SUM(sales) AS total_sales\nFROM orders\nGROUP BY customer_id;"
            ],
            "metadata": {
                "azdata_cell_guid": "e2552ebd-8fbd-484b-831c-d4054d8a68c6",
                "language": "sql"
            },
            "outputs": [],
            "execution_count": null
        },
        {
            "cell_type": "markdown",
            "source": [
                "✅ **Result of Query 3**:\n\n*(Output will be shown below after execution)* 📊"
            ],
            "metadata": {
                "azdata_cell_guid": "1e5832e9-4df3-4185-b551-91cb5110df71"
            }
        },
        {
            "cell_type": "code",
            "source": [
                "-- 04. Number of orders placed by each customer\nSELECT customer_id, COUNT(order_id) AS number_of_orders\nFROM orders\nGROUP BY customer_id;"
            ],
            "metadata": {
                "azdata_cell_guid": "a482b194-6b54-4f9c-8a3b-121092067a68",
                "language": "sql"
            },
            "outputs": [],
            "execution_count": null
        },
        {
            "cell_type": "markdown",
            "source": [
                "✅ **Result of Query 4**:\n\n*(Output will be shown below after execution)* 📊"
            ],
            "metadata": {
                "azdata_cell_guid": "7d7d5764-5ac4-44f9-b85a-f03d8e98d713"
            }
        },
        {
            "cell_type": "code",
            "source": [
                "-- 05. Minimum and maximum sales per customer\nSELECT customer_id, MIN(sales) AS min_sale, MAX(sales) AS max_sale\nFROM orders\nGROUP BY customer_id;"
            ],
            "metadata": {
                "azdata_cell_guid": "a3b4947b-ea70-40f6-894d-cbfbb153fe2b",
                "language": "sql"
            },
            "outputs": [],
            "execution_count": null
        },
        {
            "cell_type": "markdown",
            "source": [
                "✅ **Result of Query 5**:\n\n*(Output will be shown below after execution)* 📊"
            ],
            "metadata": {
                "azdata_cell_guid": "1a1bee69-430f-4b53-af10-2b3b69cc56ad"
            }
        },
        {
            "cell_type": "code",
            "source": [
                "-- 06. Total sales by year\nSELECT YEAR(order_date) AS order_year, SUM(sales) AS total_sales\nFROM orders\nGROUP BY YEAR(order_date);"
            ],
            "metadata": {
                "azdata_cell_guid": "77d4bcc2-dd56-4f43-b915-dbce2de0fdbe",
                "language": "sql"
            },
            "outputs": [],
            "execution_count": null
        },
        {
            "cell_type": "markdown",
            "source": [
                "✅ **Result of Query 6**:\n\n*(Output will be shown below after execution)* 📊"
            ],
            "metadata": {
                "azdata_cell_guid": "16a7d9f4-92b9-4163-bee0-a786dfe46cbc"
            }
        },
        {
            "cell_type": "code",
            "source": [
                "-- 07. Number of customers per score group (grouping by rounded hundreds)\nSELECT (score / 100) * 100 AS score_range, COUNT(*) AS customer_count\nFROM customers\nGROUP BY (score / 100) * 100;"
            ],
            "metadata": {
                "azdata_cell_guid": "b4815234-5a87-41c4-80d2-9f29a3257808",
                "language": "sql"
            },
            "outputs": [],
            "execution_count": null
        },
        {
            "cell_type": "markdown",
            "source": [
                "✅ **Result of Query 7**:\n\n*(Output will be shown below after execution)* 📊"
            ],
            "metadata": {
                "azdata_cell_guid": "ead08e5f-b538-44cd-897f-a4d862e92992"
            }
        },
        {
            "cell_type": "code",
            "source": [
                "-- 08. Total orders and average sales by year and customer\nSELECT YEAR(order_date) AS order_year, customer_id, COUNT(*) AS total_orders, AVG(sales) AS avg_sales\nFROM orders\nGROUP BY YEAR(order_date), customer_id;"
            ],
            "metadata": {
                "azdata_cell_guid": "3c386e29-b0be-42eb-ac9d-372f5d76e95a",
                "language": "sql"
            },
            "outputs": [],
            "execution_count": null
        },
        {
            "cell_type": "markdown",
            "source": [
                "✅ **Result of Query 8**:\n\n*(Output will be shown below after execution)* 📊"
            ],
            "metadata": {
                "azdata_cell_guid": "171bbf34-5f2e-46ff-8648-d8a50b56cb55"
            }
        },
        {
            "cell_type": "code",
            "source": [
                "-- 09. Count of countries with each customer name (to find duplicate names across countries)\nSELECT first_name, COUNT(DISTINCT country) AS country_count\nFROM customers\nGROUP BY first_name;"
            ],
            "metadata": {
                "azdata_cell_guid": "bef0ac83-b3ef-4742-a565-f4b5d8bd57b4",
                "language": "sql"
            },
            "outputs": [],
            "execution_count": null
        },
        {
            "cell_type": "markdown",
            "source": [
                "✅ **Result of Query 9**:\n\n*(Output will be shown below after execution)* 📊"
            ],
            "metadata": {
                "azdata_cell_guid": "4c727242-6c0e-46bf-b62b-573fe12443f4"
            }
        },
        {
            "cell_type": "code",
            "source": [
                "-- 10. Find total score by country where total score is above 1000\nSELECT country, SUM(score) AS total_score\nFROM customers\nGROUP BY country\nHAVING SUM(score) > 1000;"
            ],
            "metadata": {
                "azdata_cell_guid": "6054e8c0-432f-4511-9bf3-ce9b7f58b184",
                "language": "sql"
            },
            "outputs": [],
            "execution_count": null
        },
        {
            "cell_type": "markdown",
            "source": [
                "✅ **Result of Query 10**:\n\n*(Output will be shown below after execution)* 📊"
            ],
            "metadata": {
                "azdata_cell_guid": "a5932b30-1a06-4216-8dd9-5c7012bc079c"
            }
        },
        {
            "cell_type": "code",
            "source": [
                "-- 11. Count how many orders each customer made in 2022\nSELECT customer_id, COUNT(*) AS orders_2022\nFROM orders\nWHERE YEAR(order_date) = 2022\nGROUP BY customer_id;"
            ],
            "metadata": {
                "azdata_cell_guid": "3464fbdb-9537-4398-8e26-453a50e05c31",
                "language": "sql"
            },
            "outputs": [],
            "execution_count": null
        },
        {
            "cell_type": "markdown",
            "source": [
                "✅ **Result of Query 11**:\n\n*(Output will be shown below after execution)* 📊"
            ],
            "metadata": {
                "azdata_cell_guid": "38e48867-d187-4faa-a18d-a0d1f8b79b6a"
            }
        },
        {
            "cell_type": "code",
            "source": [
                "-- 12. Total sales grouped by customer and order year\nSELECT customer_id, YEAR(order_date) AS order_year, SUM(sales) AS yearly_sales\nFROM orders\nGROUP BY customer_id, YEAR(order_date);"
            ],
            "metadata": {
                "azdata_cell_guid": "178d04ef-0f48-4648-83ec-abba318778d3",
                "language": "sql"
            },
            "outputs": [],
            "execution_count": null
        },
        {
            "cell_type": "markdown",
            "source": [
                "✅ **Result of Query 12**:\n\n*(Output will be shown below after execution)* 📊"
            ],
            "metadata": {
                "azdata_cell_guid": "852eb81c-83b8-4c3c-a8ef-579c71ac5060"
            }
        }
    ]
}